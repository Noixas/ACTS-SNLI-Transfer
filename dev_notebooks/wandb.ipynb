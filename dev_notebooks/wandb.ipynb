{
 "metadata": {
  "language_info": {
   "codemirror_mode": {
    "name": "ipython",
    "version": 3
   },
   "file_extension": ".py",
   "mimetype": "text/x-python",
   "name": "python",
   "nbconvert_exporter": "python",
   "pygments_lexer": "ipython3",
   "version": "3.8.8-final"
  },
  "orig_nbformat": 2,
  "kernelspec": {
   "name": "python388jvsc74a57bd00b7cfd85d2fc43f76dbccc53202d8ba6a9a8cca408d693df58307e7c75a304a7",
   "display_name": "Python 3.8.8 64-bit ('atcs-practical': conda)"
  },
  "metadata": {
   "interpreter": {
    "hash": "0b7cfd85d2fc43f76dbccc53202d8ba6a9a8cca408d693df58307e7c75a304a7"
   }
  }
 },
 "nbformat": 4,
 "nbformat_minor": 2,
 "cells": [
  {
   "source": [
    "## Code to download files from wandb that were created during lisa runtime\n",
    "Only used once and require to be loggined witht he right wandb account."
   ],
   "cell_type": "markdown",
   "metadata": {}
  },
  {
   "cell_type": "code",
   "execution_count": 1,
   "metadata": {},
   "outputs": [
    {
     "output_type": "stream",
     "name": "stdout",
     "text": [
      "/home/astro/Documents/UvA/Block 5 - ATCS/ATCS\n"
     ]
    }
   ],
   "source": [
    "%pwd  #look at the current work dir\n",
    "%cd  .."
   ]
  },
  {
   "cell_type": "code",
   "execution_count": 2,
   "metadata": {},
   "outputs": [],
   "source": [
    "import wandb\n",
    "import os\n",
    "api = wandb.Api()"
   ]
  },
  {
   "cell_type": "code",
   "execution_count": 3,
   "metadata": {},
   "outputs": [],
   "source": [
    "id_run = '1ae4n1th'\n",
    "model = 'awe'\n",
    "directory = 'trained_models/'+model+'/gold'\n",
    "\n",
    "if not os.path.exists(directory):\n",
    "    os.makedirs(directory)\n",
    "\n",
    "os.chdir(directory)\n",
    "run = api.run(\"rodrigochavez/atcs-practical/\"+id_run)\n",
    "for file in run.files():\n",
    "    file.download()"
   ]
  },
  {
   "cell_type": "code",
   "execution_count": null,
   "metadata": {},
   "outputs": [],
   "source": [
    "id_run = '8tzcbeam'\n",
    "model = 'lstm'\n",
    "directory = 'trained_models/'+model+'/gold'\n",
    "\n",
    "if not os.path.exists(directory):\n",
    "    os.makedirs(directory)\n",
    "\n",
    "os.chdir(directory)\n",
    "run = api.run(\"rodrigochavez/atcs-practical/\"+id_run)\n",
    "for file in run.files():\n",
    "    file.download()"
   ]
  },
  {
   "cell_type": "code",
   "execution_count": null,
   "metadata": {},
   "outputs": [],
   "source": [
    "id_run = '1p3zope5'\n",
    "model = 'bilstm'\n",
    "directory = 'trained_models/'+model+'/gold'\n",
    "\n",
    "if not os.path.exists(directory):\n",
    "    os.makedirs(directory)\n",
    "\n",
    "os.chdir(directory)\n",
    "run = api.run(\"rodrigochavez/atcs-practical/\"+id_run)\n",
    "for file in run.files():\n",
    "    file.download()"
   ]
  },
  {
   "cell_type": "code",
   "execution_count": null,
   "metadata": {},
   "outputs": [],
   "source": [
    "id_run = '3jwpgfe9'\n",
    "model = 'bilstm-max'\n",
    "directory = 'trained_models/'+model+'/gold'\n",
    "\n",
    "if not os.path.exists(directory):\n",
    "    os.makedirs(directory)\n",
    "\n",
    "os.chdir(directory)\n",
    "run = api.run(\"rodrigochavez/atcs-practical/\"+id_run)\n",
    "for file in run.files():\n",
    "    file.download()"
   ]
  }
 ]
}