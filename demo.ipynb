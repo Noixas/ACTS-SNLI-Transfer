{
 "metadata": {
  "language_info": {
   "codemirror_mode": {
    "name": "ipython",
    "version": 3
   },
   "file_extension": ".py",
   "mimetype": "text/x-python",
   "name": "python",
   "nbconvert_exporter": "python",
   "pygments_lexer": "ipython3",
   "version": "3.8.8-final"
  },
  "orig_nbformat": 2,
  "kernelspec": {
   "name": "python388jvsc74a57bd00b7cfd85d2fc43f76dbccc53202d8ba6a9a8cca408d693df58307e7c75a304a7",
   "display_name": "Python 3.8.8 64-bit ('atcs-practical': conda)"
  },
  "metadata": {
   "interpreter": {
    "hash": "0b7cfd85d2fc43f76dbccc53202d8ba6a9a8cca408d693df58307e7c75a304a7"
   }
  }
 },
 "nbformat": 4,
 "nbformat_minor": 2,
 "cells": [
  {
   "cell_type": "code",
   "execution_count": 1,
   "metadata": {},
   "outputs": [],
   "source": [
    "%load_ext autoreload\n",
    "%autoreload 2\n",
    "from modules.Classifier import Classifier\n",
    "from pytorch_lightning import LightningModule\n",
    "\n",
    "from pytorch_lightning import Trainer\n",
    "from modules.AverageEmbeddings import AverageEmbeddings\n",
    "from modules.Classifier import Classifier\n",
    "import torch\n",
    "from torchtext.legacy.datasets.nli import SNLI\n",
    "from torchtext.legacy.data import Field\n",
    "from torchtext.legacy import data\n",
    "import torchtext\n",
    "from torch.utils.data import DataLoader"
   ]
  },
  {
   "cell_type": "code",
   "execution_count": 2,
   "metadata": {},
   "outputs": [],
   "source": [
    "def get_checkpoint_path(model_name='awe'):\n",
    "    \"\"\"Get the path to the model checkpoints. Available: [awe, lstm, bilstm, bilstm-max]\n",
    "    \"\"\"\n",
    "    return'trained_models/'+model_name+'/gold/'+model_name+'.ckpt'\n",
    "device = torch.device('cuda' if torch.cuda.is_available() else 'cpu')"
   ]
  },
  {
   "cell_type": "code",
   "execution_count": 3,
   "metadata": {},
   "outputs": [],
   "source": [
    "glove = torchtext.vocab.GloVe(name='840B', dim=300)"
   ]
  },
  {
   "cell_type": "code",
   "execution_count": 4,
   "metadata": {},
   "outputs": [],
   "source": [
    "TEXT = Field(lower=True, include_lengths=True, batch_first=True,tokenize='spacy',tokenizer_language=\"en_core_web_sm\")\n",
    "LABEL = Field(sequential=False)\n",
    "\n",
    "train, dev, test = SNLI.splits(TEXT, LABEL, root= './data')\n",
    "TEXT.build_vocab(train, vectors=glove)\n"
   ]
  },
  {
   "cell_type": "code",
   "execution_count": 5,
   "metadata": {},
   "outputs": [],
   "source": [
    "model_name = 'lstm'\n",
    "checkpath = get_checkpoint_path(model_name)\n",
    "model = Classifier()\n",
    "pretrained_model = model.load_from_checkpoint(checkpath,model_name=model_name,disable_nonlinear=True).to(device)\n",
    " "
   ]
  },
  {
   "cell_type": "code",
   "execution_count": 6,
   "metadata": {},
   "outputs": [],
   "source": [
    "premise = \"Two woman are embracing while holding to go packages\"\n",
    "hypothesis = \"Two woman are holding packages\"\n",
    "# TEXT.process(premise)"
   ]
  },
  {
   "cell_type": "code",
   "execution_count": 7,
   "metadata": {},
   "outputs": [],
   "source": [
    "# def test_snli(premise,hypothesis):\n",
    "#     TEXT = Field(lower=True, include_lengths=False, batch_first=True,tokenize='spacy',tokenizer_language=\"en_core_web_sm\")\n",
    "#     vocab = premise.split(' ') + hypothesis.split(\" \")\n",
    "#     EXT.build_vocab(train, vectors=glove)"
   ]
  },
  {
   "cell_type": "code",
   "execution_count": 8,
   "metadata": {
    "tags": [
     "outputPrepend"
    ]
   },
   "outputs": [
    {
     "output_type": "stream",
     "name": "stdout",
     "text": [
      "squeaking', 'squeegees', 'squeek', 'squeezd', 'squidward', 'squiggly', 'squire', 'squirm', 'squirre', 'squirtle', 'squiting', 'sreet', 'srike', 'srteet', 'srtits', 'srtong', 'ssinks', 'sswimming', 'sta', 'staanding', 'staaring', 'stabalize', 'stabds', 'stabilizing', 'staduim', 'stadum', 'staffed', 'stagehands', 'staggered', 'stagnant', 'staight', 'stainding', 'staion', 'staionary', 'stairing', 'stairmaster', 'staked', 'stakeout', 'stalagmites', 'stale', 'stalone', 'stampeded', 'stampedes', 'standee', 'standin', 'standinig', 'standint', 'standng', 'standy', 'staniding', 'stanidng', 'stanind', 'stanindg', 'stannding', 'stapeler', 'staple', 'starbux', 'starcraft', 'starfruit', 'staricase', 'starship', 'startec', 'startle', 'startup', 'starved', 'stashing', 'statefarm', 'statehouse', 'statioin', 'stationwagon', 'statistics', 'staturte', 'staves', 'staycation', 'stding', 'steamboat', 'stecco', 'steeet', 'steeler', 'steepest', 'steetcorner', 'steets', 'stefani', 'stegosauruses', 'steinway', 'stemware', 'stenciled', 'stenographer', 'stents', 'step.s', 'stepdaughter', 'stephen', 'stepmother', 'steppe', 'ster', 'stereotypes', 'steriods', 'sternly', 'steroids', 'sterring', 'sterrt', 'stes', 'stethascope', 'stethescopes', 'stetson', 'stgage', 'stiars', 'sticked', 'stickthrower', 'stiffy', 'stifles', 'stihl', 'stikes', 'stillettos', 'stiltwalkers', 'stimulants', 'stinging', 'stink', 'stinking', 'stint', 'stip', 'stirefor', 'stirkes', 'stis', 'stiting', 'stitting', 'stix', 'stnading', 'stnding', 'stockades', 'stockbrokers', 'stockpiling', 'stockpot', 'stockpots', 'stoller', 'stollers', 'stomachache', 'stomache', 'stooges', 'stop/', 'stoped', 'storeys', 'storks', 'stormclouds', 'stormtroopers', 'storyline', 'storyteller', 'stoves', 'stowed', 'stowing', 'stows', 'stradivari', 'stradivarius', 'stragler', 'straightened', 'straightjacket', 'strain', 'straitening', 'straning', 'strategic', 'stratosphere', 'strauss', 'streaching', 'streak', 'streamed', 'streat', 'stree.t', 'stree5', 'streeking', 'streem', 'street.s', 'streetcars', 'streetcart', 'streetcorner', 'streetgame', 'streeth', 'streetlamps', 'streetperformer', 'streetpreformer', 'streetracer', 'streetrunning', 'streetwalkers', 'strenghts', 'strengt', 'stresses', 'stret', 'stretty', 'strewing', 'stright', 'striken', 'striling', 'stringer', 'stripee', 'stripmall', 'strive', 'striving', 'stroganoff', 'stroked', 'strom', 'stronginthearm', 'strret', 'struckout', 'structural', 'structuralist', 'strugles', 'strugling', 'struming', 'strummed', 'strut', 'sttands', 'studios', 'stuent', 'stufying', 'stuits', 'stumbly', 'stumped', 'stun', 'stuntsman', 'sturgeon', 'sturgis', 'stweardesses', 'stylize', 'subbed', 'subdued', 'subdues', 'subervision', 'submariner', 'submitting', 'subscribers', 'subscriptions', 'subsequently', 'substandard', 'substation', 'substitute', 'substituted', 'suburbian', 'succeeded', 'succeeding', 'succesful', 'sucessfully', 'sudoko', 'sudoku', 'suffer', 'sufferring', 'suffocated', 'suffocating', 'suffocation', 'sufring', 'suft', 'sugarcane', 'sugnlasses', 'suicice', 'suing', 'suitcasre', 'sulking', 'sultry', 'sumbreros', 'sumersault', 'sumersaults', 'summersaults', 'summiting', 'summits', 'summitting', 'sumos', 'sump', 'sumptuous', 'sunbathed', 'sunbatheres', 'sunbeathing', 'sunbonnets', 'sunburst', 'suncreen', 'sundance', 'sundays', 'sunglasses/.', 'sunglesses', 'sunroom', 'sunse', 'sunshield', 'sunspots', 'suntans', 'superb', 'superintendent', 'supernatural', 'supersoaker', 'supersonic', 'superstitious', 'superstructure', 'supervillain', 'supplement', 'supplier', 'supporst', 'supportedr', 'suppress', 'supremacy', 'surboard', 'surer', 'surfboad', 'surfter', 'surgboard', 'surgean', 'surgeory', 'surger', 'surgeries', 'surgey', 'surgically', 'suring', 'surounding', 'surpass', 'surpirised', 'surpise', 'surpised', 'surplus', 'surprisingly', 'surrending', 'surrogate', 'surrond', 'surrondings', 'surrouding', 'surved', 'survers', 'surveryor', 'surving', 'susnset', 'suspending', 'suspicion', 'susppect', 'sustained', 'sustance', 'sutdent', 'sutra', 'sutset', 'sux', 'svelte', 'sven', 'swabbing', 'swaeting', 'swag', 'swahili', 'swallor', 'swapping', 'swayze', 'swearters', 'sweated', 'sweatervest', 'sweathshirt', 'sweatily', 'swedes', 'sweedish', 'sweeeps', 'sweek', 'sweetheart', 'sweethearts', 'sweetie', 'sweing', 'swi', 'swiftest', 'swiging', 'swigning', 'swimemr', 'swimmign', 'swimmingly', 'swimmng', 'swimsets', 'swimshorts', 'swimsuites', 'swimsutis', 'swimtrucks', 'swindle', 'swingingon', 'swingline', 'swinn', 'swinsuits', 'swirly', 'switching', 'swivel', 'swol', 'swooning', 'swordplay', 'sycamore', 'syllabus', 'symbolising', 'symbolize', 'symphany', 'synching', 'syncronized', 'syncs', 'synth', 'synthetic', 'syria', 't.a.r.d.i.s.', 't1000', 'ta&m', 'tabble', 'tabe', 'table.\\\\', 'tableful', 'tables/', 'tablesellign', 'tabling', 'tabloids', 'tackeled', 'tacks', 'tacobell', 'tactically', 'tadpoles', 'taekondo', 'tage', 'tailbone', 'tairs', 'takeover', 'takig', 'takinga', 'takn', 'takne', 'taks', 'tal', 'talen', 'talikng', 'taliks', 'talkative', 'talkies', 'talkin', 'talladega', 'tallants', 'tallking', 'tally', 'tamales', 'tamberione', 'tamborines', 'tamil', 'tamp', 'tampa', 'tampers', 'tampoline', 'tanding', 'tang', 'tangeled', 'tangelo', 'tangoes', 'tantrem', 'tantrums', 'tapdanced', 'taquitos', 'tardy', 'taring', 'tarred', 'tarrying', 'taser', 'tasy', 'tatted', 'tatto', 'tattoes', 'taunts', 'taveling', 'taxable', 'taxicab', 'taxidermist', 'taxies', 'taximan', 'taxy', 'tbc', 'tboys', 'tc', 'tchaikovsky', 'tdistansce', 'te.he', 'teaaching', 'teachs', 'teacing', 'teahouse', 'teamss', 'teamsters', 'teared', 'tearfully', 'teargas', 'tearin', 'teashirt', 'teaspoon', 'teaspoons', 'techhician', 'technicans', 'technitions', 'technophobe', 'techonology', 'tecnology', 'tedtalks', 'teeming', 'teeny', 'teenybopper', 'teetertoter', 'teetotaler', 'teetotalers', 'teetotaller', 'tel', 'telecom', 'telecommunication', 'telecommunications', 'telegram', 'telekinesis', 'telemark', 'telepathically', 'teleported', 'telescoper', 'teletubbie', 'teletubbies', 'television.l', 'televison', 'tellephone', 'telletubby', 'telvision', 'tema', 'temas', 'temnis', 'tempermental', 'temptation', 'tenderloins', 'tendrils', 'teniis', 'tenis', 'tennagers', 'tennesee', 'tennessee', 'tennis.drinking', 'tenors', 'tens', 'tensed', 'tensing', 'tentacled', 'tenticles', 'teriyaki', 'terms', 'terrains', 'terrestrial', 'terrian', 'terrifies', 'territorial', 'terroist', 'terrorize', 'tesla', 'testers', 'testicles', 'testify', 'testimony', 'texile', 'tfe', 'tfor', 'thalli', 'thang', 'thanked', 'thankfull', 'thar', 'theatres', 'theatrics', 'thedog', 'theeir', 'theh', 'thehy', 'theire', 'theirselves', 'theism', 'theives', 'thekitchen', 'thelemic', 'thelma', 'thelves', 'themelves', 'themountains', 'themsleves', 'thep', 'thepeople', 'therare', \"there'a\", 'there;s', 'theree', 'therei', 'theresa', 'theroy', 'therre', 'thesmselves', 'thesun', 'thewoman', 'thewomen', 'theyare', 'theyplay', 'thge', 'thhe', 'thickness', 'thimble', 'thimbles', 'thinkpad', 'thirsts', 'thje', 'thn', 'thoman', 'thoroghly', 'thorough', 'thoroughbred', 'thous', 'threadbare', 'threading', 'threer', 'threir', 'threre', 'thriving', 'througher', 'througn', 'throwback', 'throwers', 'throwings', 'throwup', 'thrusting', 'thst', 'tht', 'thte', 'thug', 'thum', 'thumps', 'thundering', 'thur', 'thwack', 'thwarted', 'thwe', 'thwir', 'thye', 'thyme', 'tibia', 'tick', 'tickiing', 'tickiling', 'tidies', 'tiebreaker', 'tiffany', 'tighrope', 'tightening', 'tightroper', 'tightwire', 'tighty', 'time.q', 'timecard', 'timeshares', 'timpani', 'tinening', 'tinnitus', 'tints', 'tips/', 'tiptoed', 'tiramisu', 'tireswing', 'tis', 'titanium', 'titans', 'titantic', 'titrating', 'tits', 'tkaing', 'tlaking', 'tlaks', 'tme', 'tn', 'toa', 'toally', 'toasted', 'tobagganing', 'todd', 'todder', 'toeards', 'toegether', 'togather', 'togerher', 'togeter', 'togethere', 'togethre', 'togheter', 'togs', 'togue', 'tohether', 'toils', 'toity', 'tokes', 'tollbooth', 'tollder', 'tomahawk', 'tomboy', 'tombstones', 'tomoatos', 'tomy', 'tonguing', 'tonic', 'tonights', 'tonigth', 'tonihgt', 'tonk', 'tonsillectomy', 'tonya', 'tooks', 'toolbelt', 'toold', 'toolkit', 'toon', 'toot', 'toothbruch', 'toothbrushes', 'toothbrushg', 'toothing', 'tooting', 'top-40', 'topartake', 'toriador', 'torillas', 'torments', 'tornados', 'tornament', 'tortured', 'tos', 'totalitarian', 'totals', 'tots', 'tottlder', 'toucans', 'toughest', 'toughs', 'tougue', 'tougues', 'tounrament', 'tounry', 'toupees', 'tourise', 'tourisits', 'tournamet', 'tourniquet', 'tournment', 'towads', 'towgether', 'town.w', 'townfolks', 'townhouse', 'townies', 'townsfolk', 'township', 'towork', 'toyless', 'toymaker', 'toyotas', 'toysrus', 'tpicture', 'tra', 'tract', 'tracto', 'trademarks', 'trades', 'tradesman', 'tradiitional', 'traeted', 'trafffic', 'traffi', 'traffice', 'traffick', 'trahs', 'trailor', 'trainwreck', 'traipsed', 'trait', 'traitor', 'tralier', 'trambled', 'tramploine', 'tramploline', 'trampolene', 'trampolie', 'trampoling', 'trampouline', 'tran', 'trance', 'traning', 'tranporting', 'transatlantic', 'transcribes', 'transducer', 'transfering', 'transfers', 'transforms', 'transistor', 'translating', 'transmit', 'transplanting', 'transportaion', 'transportatioin', 'transporters', 'transportion', 'trapese', 'trapt', 'trashbins', 'trashmen', 'trashmore', 'trasport', 'trasportation', 'traving', 'travlling', 'trcuk', 'treaded', 'treatting', 'treaty', 'trebeck', 'tredding', 'tredmil', 'treeptops', 'trekcon', 'treking', 'trenchcoats', 'trenches', 'trends', 'trent', 'trepassing', 'trespessers', 'tresspassing', 'tresure', 'trevi', 'trhow', 'trhu', 'triad', 'triage', 'tribbles', 'tribespeople', 'tricked', 'tricker', 'trickle', 'tricylce', 'tricyles', 'triffids', 'trigonometry', 'trilbies', 'trilogy', 'triman', 'trimmers', 'tring', 'trinidad', 'triorchidism', 'triplicate', 'tripp', 'triton', 'triumphant', 'trix', 'trming', 'trnch', 'trojans', 'troller', 'trolls', 'trombone.l', 'trophey', 'troube', 'troublemaker', 'troubleshoot', 'troubling', 'trounce', 'trounces', 'trouphy', 'trove', 'trow', 'trown', 'trrified', 'truant', 'trucking', 'trudged', 'truding', 'truk', 'truman', 'trumpeteers', 'trumpett', 'trunki', 'ts', 'tsar', 'tteen', 'tthere', 'ttoddlers', 'tubed', 'tubist', 'tuckered', 'tugboats', 'tuition', 'tull', 'tulle', 'tumbleweeds', 'tumor', 'tumultuous', 'tunne', 'tunneling', 'tunnell', 'tunner', 'tupac', 'turbulant', 'turking', 'turnk', 'turnovers', 'turnstile', 'turqoise', 'turtlenecks', 'tutoring', 'tuxidos', 'tweaks', 'tweet', 'tweets', 'twelves', 'twentieth', 'twerelve', 'twiddles', 'twilrer', 'twilring', 'twinkees', 'twinkie', 'twinky', 'twitch', 'twitching', 'twoo', 'twriles', 'tycoon', 'tyirng', 'tyke', 'tykes', 'tylenol', 'tyler', 'tyme', 'typewritter', 'tyrant', 'tyrion', 'tzus', 'u.s', 'uae', 'uber', 'udder', 'udn', 'udner', 'uhaul', 'ukrainians', 'ukuleles', 'ulterior', 'ultraman', 'ultrasound', 'um', 'umberalla', 'umbralla', 'umbreallas', 'umbrelllas', 'umpires', 'umpster', 'umrella', 'unadu', 'unafraid', 'unaided', 'unappealing', 'unapproached', 'unappy', 'unarched', 'unassembling', 'unassuming', 'unbeknownst', 'unblemished', 'unblock', 'unborn', 'unbound', 'unbraided', 'unbreakable', 'unbrellas', 'unbroke', 'unbruised', 'unbuckle', 'unbuttons', 'uncalled', 'uncapped', 'unchained', 'unclogging', 'uncomfortale', 'uncross', 'unction', 'undamaged', 'undeniable', 'underaged', 'underconstruction', 'undercooked', 'underdog', 'underestimate', 'undergarment', 'undergarmets', 'undergraduates', 'underpowered', 'underrclithes', 'underseas', 'understands', 'understudy', 'undertakers', 'underware', 'underwate', 'undeveloped', 'undies', 'undocked', 'undress', 'undwear', 'uneaten', 'uneducated', 'unequal', 'unethical', 'uneventful', 'unexpectedly', 'unexptected', 'unfairly', 'unfit', 'unflattering', 'unfording', 'unformed', 'unforms', 'ungated', 'ungrateful', 'unharmed', 'unhelpful', 'unhittable', 'unhppy', 'unicyclers', 'unicycling', 'unicylcle', 'unicyle', 'unicylist', 'unifoms', 'unifor', 'uniformde', 'uninteresting', 'uninvited', 'unionized', 'unknot', 'unknowningly', 'unkown', 'unlaces', 'unleash', 'unleashing', 'unlicensed', 'unlike', 'unloved', 'unmasked', 'unmentionables', 'unmotivated', 'unmoved', 'unmoving', 'unmuzzled', 'unnatural', 'unneeded', 'unnerved', 'unobscured', 'unofficial', 'unoperational', 'unorganized', 'unpaid', 'unparking', 'unperturbed', 'unpleased', 'unpleasing', 'unpopulated', 'unprepared', 'unproductive', 'unprofessional', 'unprofessionally', 'unravels', 'unrecognizable', 'unrelenting', 'unrideable', 'uns', 'unsavory', 'unscathed', 'unscheduled', 'unsecured', 'unseeable', 'unsettled', 'unsheathed', 'unskilled', 'unsnarl', 'unsold', 'unsteadily', 'unsteady', 'unstick', 'unsuccessfully', 'unsuitable', 'unsynchronized', 'untattooed', 'untended', 'unties', 'untouching', 'untrained', 'untucked', 'unveiled', 'unveils', 'unworn', 'uofm', 'upa', 'update', 'upenn', 'upgrade', 'uplifting', 'uprightness', 'uprights', 'upriver', 'upsdie', 'upsell', 'upsie', 'upstate', 'upstiars', 'uptight', 'upto', 'uptown', 'upware', 'urf', 'urgent', 'urinate', 'usage', 'useing', 'useless', 'ushered', 'usical', 'uside', 'usiing', 'uso', 'uss', 'ussr', 'utilitarian', 'utilized', 'utop', 'uy', 'va', 'vab', 'vacancies', 'vacantly', 'vacatation', 'vacated', 'vacatrion', 'vaccinating', 'vaccum', 'vaccume', 'vaccuum', 'vaccuuming', 'vaction', 'vactioners', 'vacuming', 'vacumm', 'vacuumn', 'vagner', 'vagrants', 'vailable', 'valedictorian', 'valid', 'valise', 'valuables', 'vamentine', 'vamoose', 'vampy', 'vanalized', 'vandalize', 'vandalizes', 'vanished', 'vantange', 'vaping', 'vaporizer', 'varandah', 'variant', 'variation', 'varities', 'vastness', 'vats', 'vaulters', 'vcr', 'vears', 'vedder', 'vegans', 'vegatable', 'vegatbles', 'vegemite', 'vegetabls', 'vegetating', 'veggy', 'vegitarians', 'vegitation', 'vegtebal', 'vehcle', 'vehecle', 'vehemently', 'vehical', 'vehicals', 'vehicels', 'veitnam', 'velociraptor', 'vencie', 'vendetta', 'venezuela', 'venor', 'venti', 'venusians', 'venutians', 'vera', 'verdure', 'verifying', 'verlander', 'vertebrate', 'vesile', 'vesper', 'vestless', 'vestry', 'vesuvius', 'veterenarian', 'veterinarians', 'vetern', 'vetetables', 'vhef', 'viatnam', 'vibrand', 'vicar', 'vicous', 'victem', 'victimizing', 'victrola', 'vidal', 'vide', 'videoed', 'videohraphers', 'viewa', 'viewership', 'vigilantes', 'vigirously', 'vigor', 'vikki', 'villa', 'villains', 'villiagers', 'villian', 'vin', 'vinegar', 'vinny', 'vintaage', 'viny', 'vinyard', 'violations', 'violets', 'violonist', 'violvent', 'virgins', 'virtuosos', 'viruses', 'visibile', 'visiing', 'visisble', 'visitro', 'vist', 'vistings', 'visuals', 'vitamins', 'vito', 'vitton', 'vivisected', 'vlimber', 'vocalizations', 'vocalizing', 'vocally', 'vocation', 'voilence', 'volatile', 'voldemort', 'vole', 'volet', 'volkswagens', 'volleball', 'volleyballteam', 'voluneteers', 'volunteered', 'volvos', 'vomited', 'vonn', 'voted', 'vowed', 'vowes', 'voyages', 'vray', 'vulcans', 'vulgarity', 'vultures', 'vvehicle', 'vye', 'waave', 'wachee', 'waches', 'waching', 'wacthes', 'waddle', 'waddling', 'waering', 'waers', 'wafts', 'wago', 'waikiki', 'wails', 'waimeia', 'wairess', 'wairs', 'waith', 'waitres', 'waitressing', 'waive', 'waived', 'wakboarder', 'wakeboader', 'waken', 'wakling', 'waliking', 'walil', 'walk/', 'walkes', 'walki', 'walkig', 'walkign', 'walkiing', 'walkin', 'walkis', 'walkoff', 'wallmart', 'walloping', 'wallow', 'wallpapering', 'wallstreet', 'waltzes', 'waman', 'wang', 'wantedto', 'waqlking', 'warble', 'warbler', 'warboat', 'warching', 'warhol', 'warmest', 'warmign', 'warmups', 'wasabi', 'washinng', 'washling', 'washtub', 'wasps', 'waspy', 'wastes', 'watche', 'watchese', 'watchinf', 'watchingan', 'watchingt', 'watchint', 'watchman', 'watchng', 'watchs', 'watchtower', 'wate.r', 'water/', 'waterall', 'waterballoons', 'waterbody', 'waterfight', 'waterfountain', 'waterfrom', 'watergyser', 'waterhose', 'waterless', 'watermellons', 'waterscapes', 'waterskiers', 'watfched', 'wathced', 'wathces', 'wathes', 'watitingto', 'watusi', 'waveboader', 'wavelengths', 'waveless', 'wavepool', 'waverunner', 'wavey', 'wayer', 'wayward', 'weaaring', 'weaars', 'weainr', 'weakling', 'wealth', 'weaning', 'weaponry', 'weareing', 'wearers', 'wearig', 'wearinf', 'wearinh', 'wearinng', 'wearkng', 'wearnign', 'wearong', 'wearping', 'wearring', 'wearting', 'weasels', 'weat', 'weatehr', 'weatherman', 'weatherwax', 'webelo', 'weber', 'webinar', 'webs', 'weddingdress', 'wedges', 'weedkiller', 'weegy', 'weeki', 'weenies', 'weeny', 'weep', 'weighted', 'weightless', 'weightlifint', 'weightlifter', 'weilds', 'weinermobile', 'weing', 'weinging', 'weirdo', 'weirdos', 'welfare', 'weny', 'wer', 'wera', 'werar', 'weras', 'weregeeks', 'werein', 'werewolves', 'werid', 'werstler', 'wesley', 'westernwear', 'westies', 'weter', 'wetlands', 'wetsute', 'whacked', 'whalers', 'whaling', 'whatching', 'whearing', 'wheelbarows', 'wheelchairer', 'wheezing', 'whereing', 'whiile', 'whilehis', 'whille', 'whilte', 'whilw', 'whimpering', 'whimpers', 'whined', 'whinning', 'whipout', 'whirled', 'whirraging', 'whisked', 'whisling', 'whislte', 'whispered', 'whiste', 'whistled', 'whistler', 'whitefish', 'whitei', 'whitener', 'whitening', 'whiteout', 'whiteys', 'whith', 'whithhis', 'whitteling', 'whittler', 'whiz', 'whoe', 'wholes', 'whopper', 'whore', 'whote', 'whre', 'whute', 'wi', 'wicca', 'wiccan', 'wickets', 'widdles', 'widdling', 'widelife', 'widening', 'widescreen', 'widewalk', 'widgets', 'widower', 'wiedling', 'wielded', 'wihle', 'wihtout', 'wiis', 'wilbur', 'wildcat', 'wildthings', 'wildwood', 'willd', 'william', 'willpower', 'willy', 'wilt', 'wilted', 'wilting', 'wiman', 'wimbelton', 'wimbleton', 'wimpers', 'winched', 'windchimes', 'windowblind', 'windowd', 'windower', 'windown', 'windowshopping', 'windowwasher', 'windshields', 'windsufring', 'windswept', 'winger', 'wingson', 'wingsuit', 'winnings', 'winslet', 'wiper', 'wiry', 'wiseman', 'wisk', 'wisped', 'witer', 'withdram', 'withdrawl', 'withdrew', 'witherspoon', 'withh', 'withno', 'withstand', 'witout', 'wityh', 'wizardly', 'wmba', 'wmen', 'wndy', 'woaman', 'wobbling', 'wobbly', 'woden', 'wolds', 'wolfhound', 'wolfman', 'womaen', 'womajn', 'womal', 'womanare', 'womani', 'womanin', 'womanizer', 'womanl', 'womanshoveling', 'wombat', 'womena', 'womenare', 'womenplay', 'womman', 'womoen', 'womwan', 'womwn', 'wonam', 'wonderlessly', 'wondow', 'wons', 'woo', 'woodchipper', 'woodfired', 'woodman', 'woodpeckers', 'woodshed', 'woodstove', 'woodwinds', 'wookers', 'wookie', 'woolf', 'woolite', 'woolly', 'wooman', 'woorkers', 'wordworking', 'workdays', 'worke', 'workemen', 'workes', 'workforce', 'workings', 'workmanship', 'workouts', 'worksheets', 'workshift', 'workvan', 'workweek', 'workwoman', 'worl', 'wormhole', 'worshipped', 'wower', 'wperson', 'wracked', 'wrc', 'wre', 'wreak', 'wreslting', 'wrestiling', 'wretched', 'wriestling', 'wriggles', 'wrigley', 'wrinkling', 'wriring', 'writter', 'wron.g', 'wrongfully', 'wrongly', 'ws', 'wtaching', 'wtawer', 'wtc', 'wtth', 'wu', 'wuietly', 'wurfing', 'wwalking', 'wwf', 'xbox360', 'xeno', 'xenophobic', 'xylaphone', 'xylophonists', 'y.', 'ya', 'yam', 'yank', 'yappy', 'yardsale', 'yardsaling', 'yarmaluke', 'yarmulkes', 'yeah', 'yeard', 'yearls', 'yeat', 'yeling', 'yelliing', 'yellowbicycle', 'yellowcab', 'yellowjacket', 'yellwo', 'yeloow', 'yelow', 'yelp', 'yelps', 'yeltzin', 'yesteryear', 'yhe', 'yng', \"yo'ers\", 'yodel', 'yog', 'yoing', 'yoko', 'yorshire', 'youger', 'younb', 'younegr', 'younge', 'youngling', 'youngman', 'youngy', 'younh', 'younng', 'younsters', 'youring', 'yourselfer', 'yowling', 'yowls', 'ypung', 'z', 'zamboni', 'zapped', 'zebraback', 'zehorses', 'zepellin', 'zeta', 'zionists', 'zipling', 'zit', 'zomboni', 'zonked', 'zookeepers', 'zookeper', 'zookepers', 'zoolander', 'zoomes', 'zoot', 'zooworker', 'zuma', 'zumbas', 'zuul', 'zydeco', 'zylophone']\n"
     ]
    }
   ],
   "source": [
    "premise = \"Two woman are embracing while holding to go packages\"\n",
    "hypothesis = \"Two woman are holding packages\"\n",
    "# voc = [premise, hypothesis]\n",
    "# pretrained_model.emb_vec = torch.nn.Embedding.from_pretrained(TEXT.vocab.vectors, freeze=True).to(device)\n"
   ]
  },
  {
   "cell_type": "code",
   "execution_count": 40,
   "metadata": {},
   "outputs": [],
   "source": [
    "def get_prediction(_premise,_hypothesis,model):\n",
    "    premise  = _premise.split(' ')\n",
    "    hypothesis  = _hypothesis.split(' ')\n",
    "\n",
    "    prem = TEXT.process([premise])\n",
    "    hyp = TEXT.process([hypothesis])\n",
    "\n",
    "    prem = [a.to(device) for a in prem] #Send to device\n",
    "    hyp = [a.to(device) for a in hyp] \n",
    "\n",
    "    pred = model.demo_inference(prem,hyp)\n",
    "    print(\"Premise:\",_hypothesis,'\\nHypothesis:',_hypothesis,\"\\nPredicted label -->\",pred[1],'<-- with confidence:',pred[2])"
   ]
  },
  {
   "cell_type": "code",
   "execution_count": 41,
   "metadata": {},
   "outputs": [
    {
     "output_type": "stream",
     "name": "stdout",
     "text": [
      "Premise: Two woman are holding packages \nHypothesis: Two woman are holding packages \nPredicted label --> entailment <-- with confidence: 0.970869779586792\n"
     ]
    }
   ],
   "source": [
    "premise = \"Two woman are embracing while holding to go packages\"\n",
    "hypothesis = \"Two woman are holding packages\"\n",
    "get_prediction(premise,hypothesis,pretrained_model)"
   ]
  }
 ]
}